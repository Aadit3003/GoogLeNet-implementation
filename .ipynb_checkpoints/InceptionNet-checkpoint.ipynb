{
 "cells": [
  {
   "cell_type": "code",
   "execution_count": 2,
   "metadata": {
    "executionInfo": {
     "elapsed": 6,
     "status": "ok",
     "timestamp": 1632764201209,
     "user": {
      "displayName": "AADIT DESHPANDE",
      "photoUrl": "https://lh3.googleusercontent.com/a-/AOh14GiUF76GxlV9YoyNoSepBP0uU3cinZ-FV0vO8Hx-Sw=s64",
      "userId": "04391541240953945395"
     },
     "user_tz": -330
    },
    "id": "9Re5nrAjm0Vv"
   },
   "outputs": [],
   "source": [
    "%load_ext tensorboard"
   ]
  },
  {
   "cell_type": "code",
   "execution_count": 86,
   "metadata": {
    "executionInfo": {
     "elapsed": 319,
     "status": "ok",
     "timestamp": 1632765763914,
     "user": {
      "displayName": "AADIT DESHPANDE",
      "photoUrl": "https://lh3.googleusercontent.com/a-/AOh14GiUF76GxlV9YoyNoSepBP0uU3cinZ-FV0vO8Hx-Sw=s64",
      "userId": "04391541240953945395"
     },
     "user_tz": -330
    },
    "id": "G6go9iIpIBkK"
   },
   "outputs": [],
   "source": [
    "import tensorflow as tf\n",
    "from tensorflow import keras\n",
    "import tensorflow_datasets as tfds\n",
    "from tensorflow.keras.callbacks import TensorBoard\n",
    "\n",
    "from keras.layers import Conv2D, MaxPool2D, Concatenate, AveragePooling2D, Dropout, Dense, GlobalAveragePooling2D, Flatten\n",
    "\n",
    "import pandas as pd\n",
    "import numpy as np\n",
    "import matplotlib.pyplot as plt\n"
   ]
  },
  {
   "cell_type": "markdown",
   "metadata": {
    "id": "N4emE_fznBfx"
   },
   "source": [
    "# Dataset Exploration"
   ]
  },
  {
   "cell_type": "code",
   "execution_count": null,
   "metadata": {
    "colab": {
     "base_uri": "https://localhost:8080/"
    },
    "executionInfo": {
     "elapsed": 12,
     "status": "ok",
     "timestamp": 1632764204261,
     "user": {
      "displayName": "AADIT DESHPANDE",
      "photoUrl": "https://lh3.googleusercontent.com/a-/AOh14GiUF76GxlV9YoyNoSepBP0uU3cinZ-FV0vO8Hx-Sw=s64",
      "userId": "04391541240953945395"
     },
     "user_tz": -330
    },
    "id": "jUWiiVkunF71",
    "outputId": "312bf8e1-44aa-4893-a563-627426b42766",
    "scrolled": false
   },
   "outputs": [],
   "source": [
    "ds = tfds.load(\"imagenet_v2\", split = 'test')\n",
    "assert isinstance(ds, tf.data.Dataset)\n",
    "print(ds)"
   ]
  },
  {
   "cell_type": "code",
   "execution_count": null,
   "metadata": {
    "id": "ZpA7d8qP3XRR"
   },
   "outputs": [],
   "source": [
    "n = 4\n",
    "fig, axs = plt.subplots(n, 1, figsize = (4, 4*n))\n",
    "ds = ds.take(n)\n",
    "i = 0\n",
    "for example in ds:  \n",
    "  image = example[\"image\"]\n",
    "  image = tf.image.resize(image, [64,64])\n",
    "  image = image/255.0\n",
    "  axs[i].imshow(image)\n",
    "  axs[i].set_title(\"Image\")\n",
    "  label = example[\"label\"]\n",
    "  label = label.numpy()\n",
    "  axs[i].text(1.5, 0.5, label,\n",
    "              horizontalalignment='center',\n",
    "     verticalalignment='center',\n",
    "     transform = axs[i].transAxes)\n",
    "  i=i+1\n"
   ]
  },
  {
   "cell_type": "markdown",
   "metadata": {
    "id": "BVhhjCpdR7Ie"
   },
   "source": [
    "# Inception Net"
   ]
  },
  {
   "cell_type": "code",
   "execution_count": 5,
   "metadata": {},
   "outputs": [],
   "source": [
    "kernel_init = keras.initializers.glorot_uniform()\n",
    "bias_init = keras.initializers.constant(value = 0.2)"
   ]
  },
  {
   "cell_type": "code",
   "execution_count": 85,
   "metadata": {},
   "outputs": [],
   "source": [
    "def conv_block(inputs, n_filters, name=None, filter_size = (1,1), stride_step = (1,1), padding_type='same'):\n",
    "    x = Conv2D(n_filters, filter_size, padding=padding_type, strides = stride_step, activation='relu', kernel_initializer=kernel_init, bias_initializer=bias_init, name=name)(inputs)\n",
    "    return x"
   ]
  },
  {
   "cell_type": "code",
   "execution_count": 94,
   "metadata": {},
   "outputs": [],
   "source": [
    "def auxiliary_block(inputs, n_classes, name):\n",
    "    pool = AveragePooling2D(pool_size=(5,5), strides=(3,3))(inputs)\n",
    "    conv = conv_block(pool, 128)\n",
    "    flat = Flatten()(conv)\n",
    "    fc_1 = Dense(1024, activation='relu')(flat)\n",
    "    dropout = Dropout(0.7)(fc_1)\n",
    "    fc_2 = Dense(n_classes, activation = 'softmax', name=name)(dropout)\n",
    "    \n",
    "    return fc_2"
   ]
  },
  {
   "cell_type": "code",
   "execution_count": 70,
   "metadata": {
    "executionInfo": {
     "elapsed": 325,
     "status": "ok",
     "timestamp": 1632765893425,
     "user": {
      "displayName": "AADIT DESHPANDE",
      "photoUrl": "https://lh3.googleusercontent.com/a-/AOh14GiUF76GxlV9YoyNoSepBP0uU3cinZ-FV0vO8Hx-Sw=s64",
      "userId": "04391541240953945395"
     },
     "user_tz": -330
    },
    "id": "0UIyBJob3V6W"
   },
   "outputs": [],
   "source": [
    "def inception_module(x,\n",
    "                     n_filters_1x1,\n",
    "                     n_filters_3x3_reduce,\n",
    "                     n_filters_3x3,\n",
    "                     n_filters_5x5_reduce,\n",
    "                     n_filters_5x5,\n",
    "                     n_filters_pool_1x1, name):\n",
    "    \n",
    "\n",
    "  conv_1x1 = Conv2D(n_filters_1x1, (1,1), padding='same', activation='relu', kernel_initializer=kernel_init, bias_initializer=bias_init)(x)\n",
    "\n",
    "  conv_3x3 = Conv2D(n_filters_3x3_reduce, (1,1), padding='same', activation='relu', kernel_initializer=kernel_init, bias_initializer=bias_init)(x)\n",
    "  conv_3x3 = Conv2D(n_filters_3x3, (3,3), padding='same', activation='relu', kernel_initializer=kernel_init, bias_initializer=bias_init)(conv_3x3)\n",
    "\n",
    "  conv_5x5 = Conv2D(n_filters_5x5_reduce, (1,1), padding='same', activation='relu', kernel_initializer=kernel_init, bias_initializer=bias_init)(x)\n",
    "  conv_5x5 = Conv2D(n_filters_5x5, (5,5), padding='same', activation='relu', kernel_initializer=kernel_init, bias_initializer=bias_init)(conv_5x5)\n",
    "\n",
    "  max_pool = MaxPool2D(pool_size=(3, 3), strides=(1,1), padding='same')(x)\n",
    "  pool_conv_1x1 = Conv2D(n_filters_pool_1x1, (1,1), padding='same', activation='relu', kernel_initializer=kernel_init, bias_initializer=bias_init)(max_pool)\n",
    "\n",
    "  output = Concatenate(axis = 3, name=name)([conv_1x1, conv_3x3, conv_5x5, pool_conv_1x1])\n",
    "\n",
    "  return output"
   ]
  },
  {
   "cell_type": "code",
   "execution_count": 106,
   "metadata": {
    "scrolled": true
   },
   "outputs": [
    {
     "data": {
      "text/plain": [
       "<keras.engine.functional.Functional at 0x279b41470a0>"
      ]
     },
     "execution_count": 106,
     "metadata": {},
     "output_type": "execute_result"
    }
   ],
   "source": [
    "def inception_net(input_size=(224,224,3), n_classes=1000):\n",
    "    \n",
    "    inputs = keras.layers.Input(input_size)\n",
    "    conv_1 = conv_block(inputs, 64,\"Conv_1\", (7,7), (2,2))\n",
    "#     print(\"Conv_1 Output shape is \",conv_1.shape)\n",
    "\n",
    "#     Add Local Resp Norm!\n",
    "    pool_1 = MaxPool2D(pool_size=(3, 3), strides=(2,2), padding='same', name=\"Pool_1\")(conv_1)\n",
    "    pool_1 = tf.nn.local_response_normalization(pool_1, name=\"Local Resp Norm_1\")\n",
    "    conv_2a = conv_block(pool_1, 64, \"Conv_2a\", padding_type= 'valid')\n",
    "    conv_2b = conv_block(conv_2a, 192,\"Conv_2b\", (3,3))    \n",
    "    conv_2b = tf.nn.local_response_normalization(conv_2b, name=\"Local Resp Norm_2\")\n",
    "    \n",
    "    pool_2 = MaxPool2D(pool_size=(3, 3), strides=(2,2), padding='same', name= \"Pool_2\")(conv_2b)\n",
    "    inception_3a = inception_module(pool_2, 64, 96, 128, 16, 32, 32, name= \"Inception_3a\")\n",
    "    inception_3b = inception_module(inception_3a, 128, 128, 192, 32, 96, 64, name= \"Inception_3b\")\n",
    "    \n",
    "    pool_3 = MaxPool2D(pool_size=(3,3), strides= (2,2), padding='same', name=\"Pool_3\")(inception_3b)\n",
    "    inception_4a = inception_module(pool_3, 192, 96, 208, 16, 48, 64, name= \"Inception_4a\")\n",
    "    inception_4b = inception_module(inception_4a, 160, 112, 224, 24, 64, 64, name= \"Inception_4b\")\n",
    "    inception_4c = inception_module(inception_4b, 128, 128, 256, 24, 64, 64, name= \"Inception_4c\")\n",
    "    inception_4d = inception_module(inception_4c, 112, 144, 288, 32, 64, 64, name= \"Inception_4d\")\n",
    "#     Auxiliary Classifier\n",
    "    soft_0 = auxiliary_block(inception_4d, n_classes, \"Soft_0\");\n",
    "    inception_4e = inception_module(inception_4d, 256, 160, 320, 32, 128, 128, name= \"Inception_4e\")\n",
    "#     Auxiliary Classifier\n",
    "    soft_1 = auxiliary_block(inception_4e, n_classes, \"Soft_1\");\n",
    "    \n",
    "    pool_4 = MaxPool2D(pool_size= (3,3), strides= (2,2), padding='same', name=\"Pool_4\")(inception_4e)\n",
    "    inception_5a = inception_module(pool_4, 256, 160, 320, 32, 128, 128, name= \"Inception_5a\")\n",
    "    inception_5b = inception_module(inception_5a, 384, 192, 384, 48, 128, 128, name= \"Inception_5b\")\n",
    "    \n",
    "    pool_5 = AveragePooling2D(pool_size=(7,7), strides=(1,1), padding='valid', name=\"Pool_5\")(inception_5b)\n",
    "    drop_out = Dropout(0.4, name=\"Dropout\")(pool_5)\n",
    "    soft_2 = Dense(n_classes, activation='softmax', name=\"Soft_2\")(drop_out)\n",
    "      \n",
    "#     With Aux Classifiers\n",
    "    model = keras.Model(inputs = inputs, outputs = [soft_2, soft_1, soft_0])\n",
    "\n",
    "#     model = keras.Model(inputs = inputs, outputs = soft_2)\n",
    "\n",
    "    return model\n",
    "\n",
    "inception_net()"
   ]
  },
  {
   "cell_type": "code",
   "execution_count": 107,
   "metadata": {
    "scrolled": true
   },
   "outputs": [],
   "source": [
    "inception_net_model = inception_net(n_classes=10)\n"
   ]
  },
  {
   "cell_type": "code",
   "execution_count": 108,
   "metadata": {},
   "outputs": [
    {
     "name": "stdout",
     "output_type": "stream",
     "text": [
      "Model: \"model_24\"\n",
      "__________________________________________________________________________________________________\n",
      "Layer (type)                    Output Shape         Param #     Connected to                     \n",
      "==================================================================================================\n",
      "input_66 (InputLayer)           [(None, 224, 224, 3) 0                                            \n",
      "__________________________________________________________________________________________________\n",
      "Conv_1 (Conv2D)                 (None, 112, 112, 64) 9472        input_66[0][0]                   \n",
      "__________________________________________________________________________________________________\n",
      "Pool_1 (MaxPooling2D)           (None, 56, 56, 64)   0           Conv_1[0][0]                     \n",
      "__________________________________________________________________________________________________\n",
      "tf.nn.local_response_normalizat (None, 56, 56, 64)   0           Pool_1[0][0]                     \n",
      "__________________________________________________________________________________________________\n",
      "Conv_2a (Conv2D)                (None, 56, 56, 64)   4160        tf.nn.local_response_normalizatio\n",
      "__________________________________________________________________________________________________\n",
      "Conv_2b (Conv2D)                (None, 56, 56, 192)  110784      Conv_2a[0][0]                    \n",
      "__________________________________________________________________________________________________\n",
      "tf.nn.local_response_normalizat (None, 56, 56, 192)  0           Conv_2b[0][0]                    \n",
      "__________________________________________________________________________________________________\n",
      "Pool_2 (MaxPooling2D)           (None, 28, 28, 192)  0           tf.nn.local_response_normalizatio\n",
      "__________________________________________________________________________________________________\n",
      "conv2d_2082 (Conv2D)            (None, 28, 28, 96)   18528       Pool_2[0][0]                     \n",
      "__________________________________________________________________________________________________\n",
      "conv2d_2084 (Conv2D)            (None, 28, 28, 16)   3088        Pool_2[0][0]                     \n",
      "__________________________________________________________________________________________________\n",
      "max_pooling2d_416 (MaxPooling2D (None, 28, 28, 192)  0           Pool_2[0][0]                     \n",
      "__________________________________________________________________________________________________\n",
      "conv2d_2081 (Conv2D)            (None, 28, 28, 64)   12352       Pool_2[0][0]                     \n",
      "__________________________________________________________________________________________________\n",
      "conv2d_2083 (Conv2D)            (None, 28, 28, 128)  110720      conv2d_2082[0][0]                \n",
      "__________________________________________________________________________________________________\n",
      "conv2d_2085 (Conv2D)            (None, 28, 28, 32)   12832       conv2d_2084[0][0]                \n",
      "__________________________________________________________________________________________________\n",
      "conv2d_2086 (Conv2D)            (None, 28, 28, 32)   6176        max_pooling2d_416[0][0]          \n",
      "__________________________________________________________________________________________________\n",
      "Inception_3a (Concatenate)      (None, 28, 28, 256)  0           conv2d_2081[0][0]                \n",
      "                                                                 conv2d_2083[0][0]                \n",
      "                                                                 conv2d_2085[0][0]                \n",
      "                                                                 conv2d_2086[0][0]                \n",
      "__________________________________________________________________________________________________\n",
      "conv2d_2088 (Conv2D)            (None, 28, 28, 128)  32896       Inception_3a[0][0]               \n",
      "__________________________________________________________________________________________________\n",
      "conv2d_2090 (Conv2D)            (None, 28, 28, 32)   8224        Inception_3a[0][0]               \n",
      "__________________________________________________________________________________________________\n",
      "max_pooling2d_417 (MaxPooling2D (None, 28, 28, 256)  0           Inception_3a[0][0]               \n",
      "__________________________________________________________________________________________________\n",
      "conv2d_2087 (Conv2D)            (None, 28, 28, 128)  32896       Inception_3a[0][0]               \n",
      "__________________________________________________________________________________________________\n",
      "conv2d_2089 (Conv2D)            (None, 28, 28, 192)  221376      conv2d_2088[0][0]                \n",
      "__________________________________________________________________________________________________\n",
      "conv2d_2091 (Conv2D)            (None, 28, 28, 96)   76896       conv2d_2090[0][0]                \n",
      "__________________________________________________________________________________________________\n",
      "conv2d_2092 (Conv2D)            (None, 28, 28, 64)   16448       max_pooling2d_417[0][0]          \n",
      "__________________________________________________________________________________________________\n",
      "Inception_3b (Concatenate)      (None, 28, 28, 480)  0           conv2d_2087[0][0]                \n",
      "                                                                 conv2d_2089[0][0]                \n",
      "                                                                 conv2d_2091[0][0]                \n",
      "                                                                 conv2d_2092[0][0]                \n",
      "__________________________________________________________________________________________________\n",
      "Pool_3 (MaxPooling2D)           (None, 14, 14, 480)  0           Inception_3b[0][0]               \n",
      "__________________________________________________________________________________________________\n",
      "conv2d_2094 (Conv2D)            (None, 14, 14, 96)   46176       Pool_3[0][0]                     \n",
      "__________________________________________________________________________________________________\n",
      "conv2d_2096 (Conv2D)            (None, 14, 14, 16)   7696        Pool_3[0][0]                     \n",
      "__________________________________________________________________________________________________\n",
      "max_pooling2d_418 (MaxPooling2D (None, 14, 14, 480)  0           Pool_3[0][0]                     \n",
      "__________________________________________________________________________________________________\n",
      "conv2d_2093 (Conv2D)            (None, 14, 14, 192)  92352       Pool_3[0][0]                     \n",
      "__________________________________________________________________________________________________\n",
      "conv2d_2095 (Conv2D)            (None, 14, 14, 208)  179920      conv2d_2094[0][0]                \n",
      "__________________________________________________________________________________________________\n",
      "conv2d_2097 (Conv2D)            (None, 14, 14, 48)   19248       conv2d_2096[0][0]                \n",
      "__________________________________________________________________________________________________\n",
      "conv2d_2098 (Conv2D)            (None, 14, 14, 64)   30784       max_pooling2d_418[0][0]          \n",
      "__________________________________________________________________________________________________\n",
      "Inception_4a (Concatenate)      (None, 14, 14, 512)  0           conv2d_2093[0][0]                \n",
      "                                                                 conv2d_2095[0][0]                \n",
      "                                                                 conv2d_2097[0][0]                \n",
      "                                                                 conv2d_2098[0][0]                \n",
      "__________________________________________________________________________________________________\n",
      "conv2d_2100 (Conv2D)            (None, 14, 14, 112)  57456       Inception_4a[0][0]               \n",
      "__________________________________________________________________________________________________\n",
      "conv2d_2102 (Conv2D)            (None, 14, 14, 24)   12312       Inception_4a[0][0]               \n",
      "__________________________________________________________________________________________________\n",
      "max_pooling2d_419 (MaxPooling2D (None, 14, 14, 512)  0           Inception_4a[0][0]               \n",
      "__________________________________________________________________________________________________\n",
      "conv2d_2099 (Conv2D)            (None, 14, 14, 160)  82080       Inception_4a[0][0]               \n",
      "__________________________________________________________________________________________________\n",
      "conv2d_2101 (Conv2D)            (None, 14, 14, 224)  226016      conv2d_2100[0][0]                \n",
      "__________________________________________________________________________________________________\n",
      "conv2d_2103 (Conv2D)            (None, 14, 14, 64)   38464       conv2d_2102[0][0]                \n",
      "__________________________________________________________________________________________________\n",
      "conv2d_2104 (Conv2D)            (None, 14, 14, 64)   32832       max_pooling2d_419[0][0]          \n",
      "__________________________________________________________________________________________________\n",
      "Inception_4b (Concatenate)      (None, 14, 14, 512)  0           conv2d_2099[0][0]                \n",
      "                                                                 conv2d_2101[0][0]                \n",
      "                                                                 conv2d_2103[0][0]                \n",
      "                                                                 conv2d_2104[0][0]                \n",
      "__________________________________________________________________________________________________\n",
      "conv2d_2106 (Conv2D)            (None, 14, 14, 128)  65664       Inception_4b[0][0]               \n",
      "__________________________________________________________________________________________________\n",
      "conv2d_2108 (Conv2D)            (None, 14, 14, 24)   12312       Inception_4b[0][0]               \n",
      "__________________________________________________________________________________________________\n",
      "max_pooling2d_420 (MaxPooling2D (None, 14, 14, 512)  0           Inception_4b[0][0]               \n",
      "__________________________________________________________________________________________________\n",
      "conv2d_2105 (Conv2D)            (None, 14, 14, 128)  65664       Inception_4b[0][0]               \n",
      "__________________________________________________________________________________________________\n",
      "conv2d_2107 (Conv2D)            (None, 14, 14, 256)  295168      conv2d_2106[0][0]                \n",
      "__________________________________________________________________________________________________\n",
      "conv2d_2109 (Conv2D)            (None, 14, 14, 64)   38464       conv2d_2108[0][0]                \n",
      "__________________________________________________________________________________________________\n",
      "conv2d_2110 (Conv2D)            (None, 14, 14, 64)   32832       max_pooling2d_420[0][0]          \n",
      "__________________________________________________________________________________________________\n",
      "Inception_4c (Concatenate)      (None, 14, 14, 512)  0           conv2d_2105[0][0]                \n",
      "                                                                 conv2d_2107[0][0]                \n",
      "                                                                 conv2d_2109[0][0]                \n",
      "                                                                 conv2d_2110[0][0]                \n",
      "__________________________________________________________________________________________________\n",
      "conv2d_2112 (Conv2D)            (None, 14, 14, 144)  73872       Inception_4c[0][0]               \n",
      "__________________________________________________________________________________________________\n",
      "conv2d_2114 (Conv2D)            (None, 14, 14, 32)   16416       Inception_4c[0][0]               \n",
      "__________________________________________________________________________________________________\n",
      "max_pooling2d_421 (MaxPooling2D (None, 14, 14, 512)  0           Inception_4c[0][0]               \n",
      "__________________________________________________________________________________________________\n",
      "conv2d_2111 (Conv2D)            (None, 14, 14, 112)  57456       Inception_4c[0][0]               \n",
      "__________________________________________________________________________________________________\n",
      "conv2d_2113 (Conv2D)            (None, 14, 14, 288)  373536      conv2d_2112[0][0]                \n",
      "__________________________________________________________________________________________________\n",
      "conv2d_2115 (Conv2D)            (None, 14, 14, 64)   51264       conv2d_2114[0][0]                \n",
      "__________________________________________________________________________________________________\n",
      "conv2d_2116 (Conv2D)            (None, 14, 14, 64)   32832       max_pooling2d_421[0][0]          \n",
      "__________________________________________________________________________________________________\n",
      "Inception_4d (Concatenate)      (None, 14, 14, 528)  0           conv2d_2111[0][0]                \n",
      "                                                                 conv2d_2113[0][0]                \n",
      "                                                                 conv2d_2115[0][0]                \n",
      "                                                                 conv2d_2116[0][0]                \n",
      "__________________________________________________________________________________________________\n",
      "conv2d_2119 (Conv2D)            (None, 14, 14, 160)  84640       Inception_4d[0][0]               \n",
      "__________________________________________________________________________________________________\n",
      "conv2d_2121 (Conv2D)            (None, 14, 14, 32)   16928       Inception_4d[0][0]               \n",
      "__________________________________________________________________________________________________\n",
      "max_pooling2d_422 (MaxPooling2D (None, 14, 14, 528)  0           Inception_4d[0][0]               \n",
      "__________________________________________________________________________________________________\n",
      "conv2d_2118 (Conv2D)            (None, 14, 14, 256)  135424      Inception_4d[0][0]               \n",
      "__________________________________________________________________________________________________\n",
      "conv2d_2120 (Conv2D)            (None, 14, 14, 320)  461120      conv2d_2119[0][0]                \n",
      "__________________________________________________________________________________________________\n",
      "conv2d_2122 (Conv2D)            (None, 14, 14, 128)  102528      conv2d_2121[0][0]                \n",
      "__________________________________________________________________________________________________\n",
      "conv2d_2123 (Conv2D)            (None, 14, 14, 128)  67712       max_pooling2d_422[0][0]          \n",
      "__________________________________________________________________________________________________\n",
      "Inception_4e (Concatenate)      (None, 14, 14, 832)  0           conv2d_2118[0][0]                \n",
      "                                                                 conv2d_2120[0][0]                \n",
      "                                                                 conv2d_2122[0][0]                \n",
      "                                                                 conv2d_2123[0][0]                \n",
      "__________________________________________________________________________________________________\n",
      "Pool_4 (MaxPooling2D)           (None, 7, 7, 832)    0           Inception_4e[0][0]               \n",
      "__________________________________________________________________________________________________\n",
      "conv2d_2126 (Conv2D)            (None, 7, 7, 160)    133280      Pool_4[0][0]                     \n",
      "__________________________________________________________________________________________________\n",
      "conv2d_2128 (Conv2D)            (None, 7, 7, 32)     26656       Pool_4[0][0]                     \n",
      "__________________________________________________________________________________________________\n",
      "max_pooling2d_423 (MaxPooling2D (None, 7, 7, 832)    0           Pool_4[0][0]                     \n",
      "__________________________________________________________________________________________________\n",
      "conv2d_2125 (Conv2D)            (None, 7, 7, 256)    213248      Pool_4[0][0]                     \n",
      "__________________________________________________________________________________________________\n",
      "conv2d_2127 (Conv2D)            (None, 7, 7, 320)    461120      conv2d_2126[0][0]                \n",
      "__________________________________________________________________________________________________\n",
      "conv2d_2129 (Conv2D)            (None, 7, 7, 128)    102528      conv2d_2128[0][0]                \n",
      "__________________________________________________________________________________________________\n",
      "conv2d_2130 (Conv2D)            (None, 7, 7, 128)    106624      max_pooling2d_423[0][0]          \n",
      "__________________________________________________________________________________________________\n",
      "Inception_5a (Concatenate)      (None, 7, 7, 832)    0           conv2d_2125[0][0]                \n",
      "                                                                 conv2d_2127[0][0]                \n",
      "                                                                 conv2d_2129[0][0]                \n",
      "                                                                 conv2d_2130[0][0]                \n",
      "__________________________________________________________________________________________________\n",
      "conv2d_2132 (Conv2D)            (None, 7, 7, 192)    159936      Inception_5a[0][0]               \n",
      "__________________________________________________________________________________________________\n",
      "conv2d_2134 (Conv2D)            (None, 7, 7, 48)     39984       Inception_5a[0][0]               \n",
      "__________________________________________________________________________________________________\n",
      "max_pooling2d_424 (MaxPooling2D (None, 7, 7, 832)    0           Inception_5a[0][0]               \n",
      "__________________________________________________________________________________________________\n",
      "average_pooling2d_27 (AveragePo (None, 4, 4, 832)    0           Inception_4e[0][0]               \n",
      "__________________________________________________________________________________________________\n",
      "average_pooling2d_26 (AveragePo (None, 4, 4, 528)    0           Inception_4d[0][0]               \n",
      "__________________________________________________________________________________________________\n",
      "conv2d_2131 (Conv2D)            (None, 7, 7, 384)    319872      Inception_5a[0][0]               \n",
      "__________________________________________________________________________________________________\n",
      "conv2d_2133 (Conv2D)            (None, 7, 7, 384)    663936      conv2d_2132[0][0]                \n",
      "__________________________________________________________________________________________________\n",
      "conv2d_2135 (Conv2D)            (None, 7, 7, 128)    153728      conv2d_2134[0][0]                \n",
      "__________________________________________________________________________________________________\n",
      "conv2d_2136 (Conv2D)            (None, 7, 7, 128)    106624      max_pooling2d_424[0][0]          \n",
      "__________________________________________________________________________________________________\n",
      "conv2d_2124 (Conv2D)            (None, 4, 4, 128)    106624      average_pooling2d_27[0][0]       \n",
      "__________________________________________________________________________________________________\n",
      "conv2d_2117 (Conv2D)            (None, 4, 4, 128)    67712       average_pooling2d_26[0][0]       \n",
      "__________________________________________________________________________________________________\n",
      "Inception_5b (Concatenate)      (None, 7, 7, 1024)   0           conv2d_2131[0][0]                \n",
      "                                                                 conv2d_2133[0][0]                \n",
      "                                                                 conv2d_2135[0][0]                \n",
      "                                                                 conv2d_2136[0][0]                \n",
      "__________________________________________________________________________________________________\n",
      "flatten_16 (Flatten)            (None, 2048)         0           conv2d_2124[0][0]                \n",
      "__________________________________________________________________________________________________\n",
      "flatten_15 (Flatten)            (None, 2048)         0           conv2d_2117[0][0]                \n",
      "__________________________________________________________________________________________________\n",
      "Pool_5 (AveragePooling2D)       (None, 1, 1, 1024)   0           Inception_5b[0][0]               \n",
      "__________________________________________________________________________________________________\n",
      "dense_29 (Dense)                (None, 1024)         2098176     flatten_16[0][0]                 \n",
      "__________________________________________________________________________________________________\n",
      "dense_28 (Dense)                (None, 1024)         2098176     flatten_15[0][0]                 \n",
      "__________________________________________________________________________________________________\n",
      "Dropout (Dropout)               (None, 1, 1, 1024)   0           Pool_5[0][0]                     \n",
      "__________________________________________________________________________________________________\n",
      "dropout_26 (Dropout)            (None, 1024)         0           dense_29[0][0]                   \n",
      "__________________________________________________________________________________________________\n",
      "dropout_25 (Dropout)            (None, 1024)         0           dense_28[0][0]                   \n",
      "__________________________________________________________________________________________________\n",
      "Soft_2 (Dense)                  (None, 1, 1, 10)     10250       Dropout[0][0]                    \n",
      "__________________________________________________________________________________________________\n",
      "Soft_1 (Dense)                  (None, 10)           10250       dropout_26[0][0]                 \n",
      "__________________________________________________________________________________________________\n",
      "Soft_0 (Dense)                  (None, 10)           10250       dropout_25[0][0]                 \n",
      "==================================================================================================\n",
      "Total params: 10,374,990\n",
      "Trainable params: 10,374,990\n",
      "Non-trainable params: 0\n",
      "__________________________________________________________________________________________________\n"
     ]
    }
   ],
   "source": [
    "inception_net_model.summary()"
   ]
  }
 ],
 "metadata": {
  "colab": {
   "authorship_tag": "ABX9TyPWNJ02nMDohs+1e8BRZJPh",
   "collapsed_sections": [],
   "name": "InceptionNet.ipynb",
   "provenance": []
  },
  "kernelspec": {
   "display_name": "Python 3",
   "language": "python",
   "name": "python3"
  },
  "language_info": {
   "codemirror_mode": {
    "name": "ipython",
    "version": 3
   },
   "file_extension": ".py",
   "mimetype": "text/x-python",
   "name": "python",
   "nbconvert_exporter": "python",
   "pygments_lexer": "ipython3",
   "version": "3.8.8"
  }
 },
 "nbformat": 4,
 "nbformat_minor": 1
}
