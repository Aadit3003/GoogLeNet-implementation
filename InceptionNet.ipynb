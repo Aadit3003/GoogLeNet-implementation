{
  "nbformat": 4,
  "nbformat_minor": 0,
  "metadata": {
    "colab": {
      "name": "InceptionNet.ipynb",
      "provenance": [],
      "collapsed_sections": []
    },
    "kernelspec": {
      "display_name": "Python 3",
      "language": "python",
      "name": "python3"
    },
    "language_info": {
      "codemirror_mode": {
        "name": "ipython",
        "version": 3
      },
      "file_extension": ".py",
      "mimetype": "text/x-python",
      "name": "python",
      "nbconvert_exporter": "python",
      "pygments_lexer": "ipython3",
      "version": "3.8.8"
    }
  },
  "cells": [
    {
      "cell_type": "code",
      "metadata": {
        "id": "9Re5nrAjm0Vv"
      },
      "source": [
        "%load_ext tensorboard"
      ],
      "execution_count": null,
      "outputs": []
    },
    {
      "cell_type": "code",
      "metadata": {
        "id": "G6go9iIpIBkK"
      },
      "source": [
        "import tensorflow as tf\n",
        "from tensorflow import keras\n",
        "import tensorflow_datasets as tfds\n",
        "from tensorflow.keras.callbacks import TensorBoard\n",
        "\n",
        "from keras.layers import Conv2D, MaxPool2D, Concatenate, AveragePooling2D, Dropout, Dense, GlobalAveragePooling2D, Flatten\n",
        "\n",
        "import pandas as pd\n",
        "import numpy as np\n",
        "import matplotlib.pyplot as plt\n"
      ],
      "execution_count": null,
      "outputs": []
    },
    {
      "cell_type": "markdown",
      "metadata": {
        "id": "N4emE_fznBfx"
      },
      "source": [
        "# Dataset Exploration"
      ]
    },
    {
      "cell_type": "code",
      "metadata": {
        "id": "jUWiiVkunF71",
        "scrolled": false
      },
      "source": [
        "ds = tfds.load(\"imagenet_v2\", split = 'test')\n",
        "assert isinstance(ds, tf.data.Dataset)\n",
        "print(ds)"
      ],
      "execution_count": null,
      "outputs": []
    },
    {
      "cell_type": "code",
      "metadata": {
        "id": "ZpA7d8qP3XRR"
      },
      "source": [
        "n = 4\n",
        "fig, axs = plt.subplots(n, 1, figsize = (4, 4*n))\n",
        "ds = ds.take(n)\n",
        "i = 0\n",
        "for example in ds:  \n",
        "  image = example[\"image\"]\n",
        "  image = tf.image.resize(image, [64,64])\n",
        "  image = image/255.0\n",
        "  axs[i].imshow(image)\n",
        "  axs[i].set_title(\"Image\")\n",
        "  label = example[\"label\"]\n",
        "  label = label.numpy()\n",
        "  axs[i].text(1.5, 0.5, label,\n",
        "              horizontalalignment='center',\n",
        "     verticalalignment='center',\n",
        "     transform = axs[i].transAxes)\n",
        "  i=i+1\n"
      ],
      "execution_count": null,
      "outputs": []
    },
    {
      "cell_type": "markdown",
      "metadata": {
        "id": "BVhhjCpdR7Ie"
      },
      "source": [
        "# Inception Net"
      ]
    },
    {
      "cell_type": "code",
      "metadata": {
        "id": "EKdKJ4Oboc6M"
      },
      "source": [
        "kernel_init = keras.initializers.glorot_uniform()\n",
        "bias_init = keras.initializers.constant(value = 0.2)"
      ],
      "execution_count": null,
      "outputs": []
    },
    {
      "cell_type": "code",
      "metadata": {
        "id": "XaujHGtDoc6M"
      },
      "source": [
        "def conv_block(inputs, n_filters, name=None, filter_size = (1,1), stride_step = (1,1), padding_type='same'):\n",
        "    x = Conv2D(n_filters, filter_size, padding=padding_type, strides = stride_step, activation='relu', kernel_initializer=kernel_init, bias_initializer=bias_init, name=name)(inputs)\n",
        "    return x"
      ],
      "execution_count": null,
      "outputs": []
    },
    {
      "cell_type": "code",
      "metadata": {
        "id": "aRyQBzn_oc6N"
      },
      "source": [
        "def auxiliary_block(inputs, n_classes, name):\n",
        "    pool = AveragePooling2D(pool_size=(5,5), strides=(3,3))(inputs)\n",
        "    conv = conv_block(pool, 128)\n",
        "    flat = Flatten()(conv)\n",
        "    fc_1 = Dense(1024, activation='relu')(flat)\n",
        "    dropout = Dropout(0.7)(fc_1)\n",
        "    fc_2 = Dense(n_classes, activation = 'softmax', name=name)(dropout)\n",
        "    \n",
        "    return fc_2"
      ],
      "execution_count": null,
      "outputs": []
    },
    {
      "cell_type": "code",
      "metadata": {
        "id": "0UIyBJob3V6W"
      },
      "source": [
        "def inception_module(x,\n",
        "                     n_filters_1x1,\n",
        "                     n_filters_3x3_reduce,\n",
        "                     n_filters_3x3,\n",
        "                     n_filters_5x5_reduce,\n",
        "                     n_filters_5x5,\n",
        "                     n_filters_pool_1x1, name):\n",
        "    \n",
        "\n",
        "  conv_1x1 = conv_block(x, n_filters_1x1)\n",
        "\n",
        "  conv_3R = conv_block(x, n_filters_3x3_reduce)\n",
        "  conv_3x3 = conv_block(conv_3R, n_filters_3x3, filter_size=(3,3))\n",
        "\n",
        "  conv_5R = conv_block(x, n_filters_5x5_reduce)\n",
        "  conv_5x5 = conv_block(conv_5R, n_filters_5x5,  filter_size=(5,5))\n",
        "\n",
        "  max_pool = MaxPool2D(pool_size=(3, 3), strides=(1,1), padding='same')(x)\n",
        "  pool_conv_1x1 = conv_block(max_pool, n_filters_pool_1x1)\n",
        "\n",
        "  output = Concatenate(axis = 3, name=name)([conv_1x1, conv_3x3, conv_5x5, pool_conv_1x1])\n",
        "\n",
        "  return output"
      ],
      "execution_count": null,
      "outputs": []
    },
    {
      "cell_type": "code",
      "metadata": {
        "scrolled": true,
        "id": "OzgEuUNVoc6O",
        "outputId": "6aea643d-71d1-4056-88f2-76bc51490fed"
      },
      "source": [
        "def inception_net(input_size=(224,224,3), n_classes=1000):\n",
        "    \n",
        "    inputs = keras.layers.Input(input_size)\n",
        "    conv_1 = conv_block(inputs, 64,\"Conv_1\", (7,7), (2,2))\n",
        "#     print(\"Conv_1 Output shape is \",conv_1.shape)\n",
        "\n",
        "#     Add Local Resp Norm!\n",
        "    pool_1 = MaxPool2D(pool_size=(3, 3), strides=(2,2), padding='same', name=\"Pool_1\")(conv_1)\n",
        "    pool_1 = tf.nn.local_response_normalization(pool_1, name=\"Local Resp Norm_1\")\n",
        "    conv_2a = conv_block(pool_1, 64, \"Conv_2a\", padding_type= 'valid')\n",
        "    conv_2b = conv_block(conv_2a, 192,\"Conv_2b\", (3,3))    \n",
        "    conv_2b = tf.nn.local_response_normalization(conv_2b, name=\"Local Resp Norm_2\")\n",
        "    \n",
        "    pool_2 = MaxPool2D(pool_size=(3, 3), strides=(2,2), padding='same', name= \"Pool_2\")(conv_2b)\n",
        "    inception_3a = inception_module(pool_2, 64, 96, 128, 16, 32, 32, name= \"Inception_3a\")\n",
        "    inception_3b = inception_module(inception_3a, 128, 128, 192, 32, 96, 64, name= \"Inception_3b\")\n",
        "    \n",
        "    pool_3 = MaxPool2D(pool_size=(3,3), strides= (2,2), padding='same', name=\"Pool_3\")(inception_3b)\n",
        "    inception_4a = inception_module(pool_3, 192, 96, 208, 16, 48, 64, name= \"Inception_4a\")\n",
        "    inception_4b = inception_module(inception_4a, 160, 112, 224, 24, 64, 64, name= \"Inception_4b\")\n",
        "    inception_4c = inception_module(inception_4b, 128, 128, 256, 24, 64, 64, name= \"Inception_4c\")\n",
        "    inception_4d = inception_module(inception_4c, 112, 144, 288, 32, 64, 64, name= \"Inception_4d\")\n",
        "#     Auxiliary Classifier\n",
        "    soft_0 = auxiliary_block(inception_4d, n_classes, \"Soft_0\");\n",
        "    inception_4e = inception_module(inception_4d, 256, 160, 320, 32, 128, 128, name= \"Inception_4e\")\n",
        "#     Auxiliary Classifier\n",
        "    soft_1 = auxiliary_block(inception_4e, n_classes, \"Soft_1\");\n",
        "    \n",
        "    pool_4 = MaxPool2D(pool_size= (3,3), strides= (2,2), padding='same', name=\"Pool_4\")(inception_4e)\n",
        "    inception_5a = inception_module(pool_4, 256, 160, 320, 32, 128, 128, name= \"Inception_5a\")\n",
        "    inception_5b = inception_module(inception_5a, 384, 192, 384, 48, 128, 128, name= \"Inception_5b\")\n",
        "    \n",
        "    pool_5 = AveragePooling2D(pool_size=(7,7), strides=(1,1), padding='valid', name=\"Pool_5\")(inception_5b)\n",
        "    drop_out = Dropout(0.4, name=\"Dropout\")(pool_5)\n",
        "    soft_2 = Dense(n_classes, activation='softmax', name=\"Soft_2\")(drop_out)\n",
        "      \n",
        "#     With Aux Classifiers\n",
        "    model = keras.Model(inputs = inputs, outputs = [soft_2, soft_1, soft_0])\n",
        "\n",
        "#     model = keras.Model(inputs = inputs, outputs = soft_2)\n",
        "\n",
        "    return model\n",
        "\n",
        "inception_net()"
      ],
      "execution_count": null,
      "outputs": [
        {
          "data": {
            "text/plain": [
              "<keras.engine.functional.Functional at 0x20b1eb36a60>"
            ]
          },
          "execution_count": 26,
          "metadata": {},
          "output_type": "execute_result"
        }
      ]
    },
    {
      "cell_type": "code",
      "metadata": {
        "scrolled": true,
        "id": "lknXlURJoc6P"
      },
      "source": [
        "inception_net_model = inception_net(n_classes=1000)\n"
      ],
      "execution_count": null,
      "outputs": []
    },
    {
      "cell_type": "code",
      "metadata": {
        "scrolled": false,
        "id": "kRNXlTKIoc6P",
        "outputId": "b917ec70-d024-464b-ced0-a1d45d0e815c"
      },
      "source": [
        "inception_net_model.summary()"
      ],
      "execution_count": null,
      "outputs": [
        {
          "name": "stdout",
          "output_type": "stream",
          "text": [
            "Model: \"model_3\"\n",
            "__________________________________________________________________________________________________\n",
            "Layer (type)                    Output Shape         Param #     Connected to                     \n",
            "==================================================================================================\n",
            "input_10 (InputLayer)           [(None, 224, 224, 3) 0                                            \n",
            "__________________________________________________________________________________________________\n",
            "Conv_1 (Conv2D)                 (None, 112, 112, 64) 9472        input_10[0][0]                   \n",
            "__________________________________________________________________________________________________\n",
            "Pool_1 (MaxPooling2D)           (None, 56, 56, 64)   0           Conv_1[0][0]                     \n",
            "__________________________________________________________________________________________________\n",
            "tf.nn.local_response_normalizat (None, 56, 56, 64)   0           Pool_1[0][0]                     \n",
            "__________________________________________________________________________________________________\n",
            "Conv_2a (Conv2D)                (None, 56, 56, 64)   4160        tf.nn.local_response_normalizatio\n",
            "__________________________________________________________________________________________________\n",
            "Conv_2b (Conv2D)                (None, 56, 56, 192)  110784      Conv_2a[0][0]                    \n",
            "__________________________________________________________________________________________________\n",
            "tf.nn.local_response_normalizat (None, 56, 56, 192)  0           Conv_2b[0][0]                    \n",
            "__________________________________________________________________________________________________\n",
            "Pool_2 (MaxPooling2D)           (None, 28, 28, 192)  0           tf.nn.local_response_normalizatio\n",
            "__________________________________________________________________________________________________\n",
            "conv2d_171 (Conv2D)             (None, 28, 28, 96)   18528       Pool_2[0][0]                     \n",
            "__________________________________________________________________________________________________\n",
            "conv2d_173 (Conv2D)             (None, 28, 28, 16)   3088        Pool_2[0][0]                     \n",
            "__________________________________________________________________________________________________\n",
            "max_pooling2d_27 (MaxPooling2D) (None, 28, 28, 192)  0           Pool_2[0][0]                     \n",
            "__________________________________________________________________________________________________\n",
            "conv2d_170 (Conv2D)             (None, 28, 28, 64)   12352       Pool_2[0][0]                     \n",
            "__________________________________________________________________________________________________\n",
            "conv2d_172 (Conv2D)             (None, 28, 28, 128)  110720      conv2d_171[0][0]                 \n",
            "__________________________________________________________________________________________________\n",
            "conv2d_174 (Conv2D)             (None, 28, 28, 32)   12832       conv2d_173[0][0]                 \n",
            "__________________________________________________________________________________________________\n",
            "conv2d_175 (Conv2D)             (None, 28, 28, 32)   6176        max_pooling2d_27[0][0]           \n",
            "__________________________________________________________________________________________________\n",
            "Inception_3a (Concatenate)      (None, 28, 28, 256)  0           conv2d_170[0][0]                 \n",
            "                                                                 conv2d_172[0][0]                 \n",
            "                                                                 conv2d_174[0][0]                 \n",
            "                                                                 conv2d_175[0][0]                 \n",
            "__________________________________________________________________________________________________\n",
            "conv2d_177 (Conv2D)             (None, 28, 28, 128)  32896       Inception_3a[0][0]               \n",
            "__________________________________________________________________________________________________\n",
            "conv2d_179 (Conv2D)             (None, 28, 28, 32)   8224        Inception_3a[0][0]               \n",
            "__________________________________________________________________________________________________\n",
            "max_pooling2d_28 (MaxPooling2D) (None, 28, 28, 256)  0           Inception_3a[0][0]               \n",
            "__________________________________________________________________________________________________\n",
            "conv2d_176 (Conv2D)             (None, 28, 28, 128)  32896       Inception_3a[0][0]               \n",
            "__________________________________________________________________________________________________\n",
            "conv2d_178 (Conv2D)             (None, 28, 28, 192)  221376      conv2d_177[0][0]                 \n",
            "__________________________________________________________________________________________________\n",
            "conv2d_180 (Conv2D)             (None, 28, 28, 96)   76896       conv2d_179[0][0]                 \n",
            "__________________________________________________________________________________________________\n",
            "conv2d_181 (Conv2D)             (None, 28, 28, 64)   16448       max_pooling2d_28[0][0]           \n",
            "__________________________________________________________________________________________________\n",
            "Inception_3b (Concatenate)      (None, 28, 28, 480)  0           conv2d_176[0][0]                 \n",
            "                                                                 conv2d_178[0][0]                 \n",
            "                                                                 conv2d_180[0][0]                 \n",
            "                                                                 conv2d_181[0][0]                 \n",
            "__________________________________________________________________________________________________\n",
            "Pool_3 (MaxPooling2D)           (None, 14, 14, 480)  0           Inception_3b[0][0]               \n",
            "__________________________________________________________________________________________________\n",
            "conv2d_183 (Conv2D)             (None, 14, 14, 96)   46176       Pool_3[0][0]                     \n",
            "__________________________________________________________________________________________________\n",
            "conv2d_185 (Conv2D)             (None, 14, 14, 16)   7696        Pool_3[0][0]                     \n",
            "__________________________________________________________________________________________________\n",
            "max_pooling2d_29 (MaxPooling2D) (None, 14, 14, 480)  0           Pool_3[0][0]                     \n",
            "__________________________________________________________________________________________________\n",
            "conv2d_182 (Conv2D)             (None, 14, 14, 192)  92352       Pool_3[0][0]                     \n",
            "__________________________________________________________________________________________________\n",
            "conv2d_184 (Conv2D)             (None, 14, 14, 208)  179920      conv2d_183[0][0]                 \n",
            "__________________________________________________________________________________________________\n",
            "conv2d_186 (Conv2D)             (None, 14, 14, 48)   19248       conv2d_185[0][0]                 \n",
            "__________________________________________________________________________________________________\n",
            "conv2d_187 (Conv2D)             (None, 14, 14, 64)   30784       max_pooling2d_29[0][0]           \n",
            "__________________________________________________________________________________________________\n",
            "Inception_4a (Concatenate)      (None, 14, 14, 512)  0           conv2d_182[0][0]                 \n",
            "                                                                 conv2d_184[0][0]                 \n",
            "                                                                 conv2d_186[0][0]                 \n",
            "                                                                 conv2d_187[0][0]                 \n",
            "__________________________________________________________________________________________________\n",
            "conv2d_189 (Conv2D)             (None, 14, 14, 112)  57456       Inception_4a[0][0]               \n",
            "__________________________________________________________________________________________________\n",
            "conv2d_191 (Conv2D)             (None, 14, 14, 24)   12312       Inception_4a[0][0]               \n",
            "__________________________________________________________________________________________________\n",
            "max_pooling2d_30 (MaxPooling2D) (None, 14, 14, 512)  0           Inception_4a[0][0]               \n",
            "__________________________________________________________________________________________________\n",
            "conv2d_188 (Conv2D)             (None, 14, 14, 160)  82080       Inception_4a[0][0]               \n",
            "__________________________________________________________________________________________________\n",
            "conv2d_190 (Conv2D)             (None, 14, 14, 224)  226016      conv2d_189[0][0]                 \n",
            "__________________________________________________________________________________________________\n",
            "conv2d_192 (Conv2D)             (None, 14, 14, 64)   38464       conv2d_191[0][0]                 \n",
            "__________________________________________________________________________________________________\n",
            "conv2d_193 (Conv2D)             (None, 14, 14, 64)   32832       max_pooling2d_30[0][0]           \n",
            "__________________________________________________________________________________________________\n",
            "Inception_4b (Concatenate)      (None, 14, 14, 512)  0           conv2d_188[0][0]                 \n",
            "                                                                 conv2d_190[0][0]                 \n",
            "                                                                 conv2d_192[0][0]                 \n",
            "                                                                 conv2d_193[0][0]                 \n",
            "__________________________________________________________________________________________________\n",
            "conv2d_195 (Conv2D)             (None, 14, 14, 128)  65664       Inception_4b[0][0]               \n",
            "__________________________________________________________________________________________________\n",
            "conv2d_197 (Conv2D)             (None, 14, 14, 24)   12312       Inception_4b[0][0]               \n",
            "__________________________________________________________________________________________________\n",
            "max_pooling2d_31 (MaxPooling2D) (None, 14, 14, 512)  0           Inception_4b[0][0]               \n",
            "__________________________________________________________________________________________________\n",
            "conv2d_194 (Conv2D)             (None, 14, 14, 128)  65664       Inception_4b[0][0]               \n",
            "__________________________________________________________________________________________________\n",
            "conv2d_196 (Conv2D)             (None, 14, 14, 256)  295168      conv2d_195[0][0]                 \n",
            "__________________________________________________________________________________________________\n",
            "conv2d_198 (Conv2D)             (None, 14, 14, 64)   38464       conv2d_197[0][0]                 \n",
            "__________________________________________________________________________________________________\n",
            "conv2d_199 (Conv2D)             (None, 14, 14, 64)   32832       max_pooling2d_31[0][0]           \n",
            "__________________________________________________________________________________________________\n",
            "Inception_4c (Concatenate)      (None, 14, 14, 512)  0           conv2d_194[0][0]                 \n",
            "                                                                 conv2d_196[0][0]                 \n",
            "                                                                 conv2d_198[0][0]                 \n",
            "                                                                 conv2d_199[0][0]                 \n",
            "__________________________________________________________________________________________________\n",
            "conv2d_201 (Conv2D)             (None, 14, 14, 144)  73872       Inception_4c[0][0]               \n",
            "__________________________________________________________________________________________________\n",
            "conv2d_203 (Conv2D)             (None, 14, 14, 32)   16416       Inception_4c[0][0]               \n",
            "__________________________________________________________________________________________________\n",
            "max_pooling2d_32 (MaxPooling2D) (None, 14, 14, 512)  0           Inception_4c[0][0]               \n",
            "__________________________________________________________________________________________________\n",
            "conv2d_200 (Conv2D)             (None, 14, 14, 112)  57456       Inception_4c[0][0]               \n",
            "__________________________________________________________________________________________________\n",
            "conv2d_202 (Conv2D)             (None, 14, 14, 288)  373536      conv2d_201[0][0]                 \n",
            "__________________________________________________________________________________________________\n",
            "conv2d_204 (Conv2D)             (None, 14, 14, 64)   51264       conv2d_203[0][0]                 \n",
            "__________________________________________________________________________________________________\n",
            "conv2d_205 (Conv2D)             (None, 14, 14, 64)   32832       max_pooling2d_32[0][0]           \n",
            "__________________________________________________________________________________________________\n",
            "Inception_4d (Concatenate)      (None, 14, 14, 528)  0           conv2d_200[0][0]                 \n",
            "                                                                 conv2d_202[0][0]                 \n",
            "                                                                 conv2d_204[0][0]                 \n",
            "                                                                 conv2d_205[0][0]                 \n",
            "__________________________________________________________________________________________________\n",
            "conv2d_208 (Conv2D)             (None, 14, 14, 160)  84640       Inception_4d[0][0]               \n",
            "__________________________________________________________________________________________________\n",
            "conv2d_210 (Conv2D)             (None, 14, 14, 32)   16928       Inception_4d[0][0]               \n",
            "__________________________________________________________________________________________________\n",
            "max_pooling2d_33 (MaxPooling2D) (None, 14, 14, 528)  0           Inception_4d[0][0]               \n",
            "__________________________________________________________________________________________________\n",
            "conv2d_207 (Conv2D)             (None, 14, 14, 256)  135424      Inception_4d[0][0]               \n",
            "__________________________________________________________________________________________________\n",
            "conv2d_209 (Conv2D)             (None, 14, 14, 320)  461120      conv2d_208[0][0]                 \n",
            "__________________________________________________________________________________________________\n",
            "conv2d_211 (Conv2D)             (None, 14, 14, 128)  102528      conv2d_210[0][0]                 \n",
            "__________________________________________________________________________________________________\n",
            "conv2d_212 (Conv2D)             (None, 14, 14, 128)  67712       max_pooling2d_33[0][0]           \n",
            "__________________________________________________________________________________________________\n",
            "Inception_4e (Concatenate)      (None, 14, 14, 832)  0           conv2d_207[0][0]                 \n",
            "                                                                 conv2d_209[0][0]                 \n",
            "                                                                 conv2d_211[0][0]                 \n",
            "                                                                 conv2d_212[0][0]                 \n",
            "__________________________________________________________________________________________________\n",
            "Pool_4 (MaxPooling2D)           (None, 7, 7, 832)    0           Inception_4e[0][0]               \n",
            "__________________________________________________________________________________________________\n",
            "conv2d_215 (Conv2D)             (None, 7, 7, 160)    133280      Pool_4[0][0]                     \n",
            "__________________________________________________________________________________________________\n",
            "conv2d_217 (Conv2D)             (None, 7, 7, 32)     26656       Pool_4[0][0]                     \n",
            "__________________________________________________________________________________________________\n",
            "max_pooling2d_34 (MaxPooling2D) (None, 7, 7, 832)    0           Pool_4[0][0]                     \n",
            "__________________________________________________________________________________________________\n",
            "conv2d_214 (Conv2D)             (None, 7, 7, 256)    213248      Pool_4[0][0]                     \n",
            "__________________________________________________________________________________________________\n",
            "conv2d_216 (Conv2D)             (None, 7, 7, 320)    461120      conv2d_215[0][0]                 \n",
            "__________________________________________________________________________________________________\n",
            "conv2d_218 (Conv2D)             (None, 7, 7, 128)    102528      conv2d_217[0][0]                 \n",
            "__________________________________________________________________________________________________\n",
            "conv2d_219 (Conv2D)             (None, 7, 7, 128)    106624      max_pooling2d_34[0][0]           \n",
            "__________________________________________________________________________________________________\n",
            "Inception_5a (Concatenate)      (None, 7, 7, 832)    0           conv2d_214[0][0]                 \n",
            "                                                                 conv2d_216[0][0]                 \n",
            "                                                                 conv2d_218[0][0]                 \n",
            "                                                                 conv2d_219[0][0]                 \n",
            "__________________________________________________________________________________________________\n",
            "conv2d_221 (Conv2D)             (None, 7, 7, 192)    159936      Inception_5a[0][0]               \n",
            "__________________________________________________________________________________________________\n",
            "conv2d_223 (Conv2D)             (None, 7, 7, 48)     39984       Inception_5a[0][0]               \n",
            "__________________________________________________________________________________________________\n",
            "max_pooling2d_35 (MaxPooling2D) (None, 7, 7, 832)    0           Inception_5a[0][0]               \n",
            "__________________________________________________________________________________________________\n",
            "average_pooling2d_7 (AveragePoo (None, 4, 4, 832)    0           Inception_4e[0][0]               \n",
            "__________________________________________________________________________________________________\n",
            "average_pooling2d_6 (AveragePoo (None, 4, 4, 528)    0           Inception_4d[0][0]               \n",
            "__________________________________________________________________________________________________\n",
            "conv2d_220 (Conv2D)             (None, 7, 7, 384)    319872      Inception_5a[0][0]               \n",
            "__________________________________________________________________________________________________\n",
            "conv2d_222 (Conv2D)             (None, 7, 7, 384)    663936      conv2d_221[0][0]                 \n",
            "__________________________________________________________________________________________________\n",
            "conv2d_224 (Conv2D)             (None, 7, 7, 128)    153728      conv2d_223[0][0]                 \n",
            "__________________________________________________________________________________________________\n",
            "conv2d_225 (Conv2D)             (None, 7, 7, 128)    106624      max_pooling2d_35[0][0]           \n",
            "__________________________________________________________________________________________________\n",
            "conv2d_213 (Conv2D)             (None, 4, 4, 128)    106624      average_pooling2d_7[0][0]        \n",
            "__________________________________________________________________________________________________\n",
            "conv2d_206 (Conv2D)             (None, 4, 4, 128)    67712       average_pooling2d_6[0][0]        \n",
            "__________________________________________________________________________________________________\n",
            "Inception_5b (Concatenate)      (None, 7, 7, 1024)   0           conv2d_220[0][0]                 \n",
            "                                                                 conv2d_222[0][0]                 \n",
            "                                                                 conv2d_224[0][0]                 \n",
            "                                                                 conv2d_225[0][0]                 \n",
            "__________________________________________________________________________________________________\n",
            "flatten_7 (Flatten)             (None, 2048)         0           conv2d_213[0][0]                 \n",
            "__________________________________________________________________________________________________\n",
            "flatten_6 (Flatten)             (None, 2048)         0           conv2d_206[0][0]                 \n",
            "__________________________________________________________________________________________________\n",
            "Pool_5 (AveragePooling2D)       (None, 1, 1, 1024)   0           Inception_5b[0][0]               \n",
            "__________________________________________________________________________________________________\n",
            "dense_7 (Dense)                 (None, 1024)         2098176     flatten_7[0][0]                  \n",
            "__________________________________________________________________________________________________\n",
            "dense_6 (Dense)                 (None, 1024)         2098176     flatten_6[0][0]                  \n",
            "__________________________________________________________________________________________________\n",
            "Dropout (Dropout)               (None, 1, 1, 1024)   0           Pool_5[0][0]                     \n",
            "__________________________________________________________________________________________________\n",
            "dropout_7 (Dropout)             (None, 1024)         0           dense_7[0][0]                    \n",
            "__________________________________________________________________________________________________\n",
            "dropout_6 (Dropout)             (None, 1024)         0           dense_6[0][0]                    \n",
            "__________________________________________________________________________________________________\n",
            "Soft_2 (Dense)                  (None, 1, 1, 1000)   1025000     Dropout[0][0]                    \n",
            "__________________________________________________________________________________________________\n",
            "Soft_1 (Dense)                  (None, 1000)         1025000     dropout_7[0][0]                  \n",
            "__________________________________________________________________________________________________\n",
            "Soft_0 (Dense)                  (None, 1000)         1025000     dropout_6[0][0]                  \n",
            "==================================================================================================\n",
            "Total params: 13,419,240\n",
            "Trainable params: 13,419,240\n",
            "Non-trainable params: 0\n",
            "__________________________________________________________________________________________________\n"
          ]
        }
      ]
    }
  ]
}